{
 "cells": [
  {
   "cell_type": "code",
   "execution_count": 1,
   "id": "54415f88",
   "metadata": {
    "_cell_guid": "b1076dfc-b9ad-4769-8c92-a6c4dae69d19",
    "_uuid": "8f2839f25d086af736a60e9eeb907d3b93b6e0e5",
    "execution": {
     "iopub.execute_input": "2024-06-05T09:55:52.537261Z",
     "iopub.status.busy": "2024-06-05T09:55:52.536686Z",
     "iopub.status.idle": "2024-06-05T09:55:53.344938Z",
     "shell.execute_reply": "2024-06-05T09:55:53.343842Z"
    },
    "papermill": {
     "duration": 0.818168,
     "end_time": "2024-06-05T09:55:53.347162",
     "exception": false,
     "start_time": "2024-06-05T09:55:52.528994",
     "status": "completed"
    },
    "tags": []
   },
   "outputs": [
    {
     "name": "stdout",
     "output_type": "stream",
     "text": [
      "/kaggle/input/healthcare/healthcare_dataset.csv\n"
     ]
    }
   ],
   "source": [
    "# This Python 3 environment comes with many helpful analytics libraries installed\n",
    "# It is defined by the kaggle/python Docker image: https://github.com/kaggle/docker-python\n",
    "# For example, here's several helpful packages to load\n",
    "\n",
    "import numpy as np # linear algebra\n",
    "import pandas as pd # data processing, CSV file I/O (e.g. pd.read_csv)\n",
    "\n",
    "# Input data files are available in the read-only \"../input/\" directory\n",
    "# For example, running this (by clicking run or pressing Shift+Enter) will list all files under the input directory\n",
    "\n",
    "import os\n",
    "for dirname, _, filenames in os.walk('/kaggle/input'):\n",
    "    for filename in filenames:\n",
    "        print(os.path.join(dirname, filename))\n",
    "\n",
    "# You can write up to 20GB to the current directory (/kaggle/working/) that gets preserved as output when you create a version using \"Save & Run All\" \n",
    "# You can also write temporary files to /kaggle/temp/, but they won't be saved outside of the current session"
   ]
  },
  {
   "cell_type": "markdown",
   "id": "dfecf1c5",
   "metadata": {
    "papermill": {
     "duration": 0.005127,
     "end_time": "2024-06-05T09:55:53.357761",
     "exception": false,
     "start_time": "2024-06-05T09:55:53.352634",
     "status": "completed"
    },
    "tags": []
   },
   "source": [
    "# Isolation Forest Anomaly Detection HealthCare"
   ]
  },
  {
   "cell_type": "code",
   "execution_count": 2,
   "id": "28f678e7",
   "metadata": {
    "execution": {
     "iopub.execute_input": "2024-06-05T09:55:53.370100Z",
     "iopub.status.busy": "2024-06-05T09:55:53.369555Z",
     "iopub.status.idle": "2024-06-05T09:55:53.735388Z",
     "shell.execute_reply": "2024-06-05T09:55:53.734394Z"
    },
    "papermill": {
     "duration": 0.374926,
     "end_time": "2024-06-05T09:55:53.737904",
     "exception": false,
     "start_time": "2024-06-05T09:55:53.362978",
     "status": "completed"
    },
    "tags": []
   },
   "outputs": [],
   "source": [
    "\n",
    "import matplotlib.pyplot as plt\n",
    "\n",
    "\n",
    "df = pd.read_csv('/kaggle/input/healthcare/healthcare_dataset.csv')"
   ]
  },
  {
   "cell_type": "code",
   "execution_count": 3,
   "id": "11140b9e",
   "metadata": {
    "execution": {
     "iopub.execute_input": "2024-06-05T09:55:53.750911Z",
     "iopub.status.busy": "2024-06-05T09:55:53.750213Z",
     "iopub.status.idle": "2024-06-05T09:55:53.783894Z",
     "shell.execute_reply": "2024-06-05T09:55:53.782890Z"
    },
    "papermill": {
     "duration": 0.042535,
     "end_time": "2024-06-05T09:55:53.786145",
     "exception": false,
     "start_time": "2024-06-05T09:55:53.743610",
     "status": "completed"
    },
    "tags": []
   },
   "outputs": [
    {
     "data": {
      "text/html": [
       "<div>\n",
       "<style scoped>\n",
       "    .dataframe tbody tr th:only-of-type {\n",
       "        vertical-align: middle;\n",
       "    }\n",
       "\n",
       "    .dataframe tbody tr th {\n",
       "        vertical-align: top;\n",
       "    }\n",
       "\n",
       "    .dataframe thead th {\n",
       "        text-align: right;\n",
       "    }\n",
       "</style>\n",
       "<table border=\"1\" class=\"dataframe\">\n",
       "  <thead>\n",
       "    <tr style=\"text-align: right;\">\n",
       "      <th></th>\n",
       "      <th>Name</th>\n",
       "      <th>Age</th>\n",
       "      <th>Gender</th>\n",
       "      <th>Blood Type</th>\n",
       "      <th>Medical Condition</th>\n",
       "      <th>Date of Admission</th>\n",
       "      <th>Doctor</th>\n",
       "      <th>Hospital</th>\n",
       "      <th>Insurance Provider</th>\n",
       "      <th>Billing Amount</th>\n",
       "      <th>Room Number</th>\n",
       "      <th>Admission Type</th>\n",
       "      <th>Discharge Date</th>\n",
       "      <th>Medication</th>\n",
       "      <th>Test Results</th>\n",
       "    </tr>\n",
       "  </thead>\n",
       "  <tbody>\n",
       "    <tr>\n",
       "      <th>0</th>\n",
       "      <td>Bobby JacksOn</td>\n",
       "      <td>30</td>\n",
       "      <td>Male</td>\n",
       "      <td>B-</td>\n",
       "      <td>Cancer</td>\n",
       "      <td>2024-01-31</td>\n",
       "      <td>Matthew Smith</td>\n",
       "      <td>Sons and Miller</td>\n",
       "      <td>Blue Cross</td>\n",
       "      <td>18856.281306</td>\n",
       "      <td>328</td>\n",
       "      <td>Urgent</td>\n",
       "      <td>2024-02-02</td>\n",
       "      <td>Paracetamol</td>\n",
       "      <td>Normal</td>\n",
       "    </tr>\n",
       "    <tr>\n",
       "      <th>1</th>\n",
       "      <td>LesLie TErRy</td>\n",
       "      <td>62</td>\n",
       "      <td>Male</td>\n",
       "      <td>A+</td>\n",
       "      <td>Obesity</td>\n",
       "      <td>2019-08-20</td>\n",
       "      <td>Samantha Davies</td>\n",
       "      <td>Kim Inc</td>\n",
       "      <td>Medicare</td>\n",
       "      <td>33643.327287</td>\n",
       "      <td>265</td>\n",
       "      <td>Emergency</td>\n",
       "      <td>2019-08-26</td>\n",
       "      <td>Ibuprofen</td>\n",
       "      <td>Inconclusive</td>\n",
       "    </tr>\n",
       "    <tr>\n",
       "      <th>2</th>\n",
       "      <td>DaNnY sMitH</td>\n",
       "      <td>76</td>\n",
       "      <td>Female</td>\n",
       "      <td>A-</td>\n",
       "      <td>Obesity</td>\n",
       "      <td>2022-09-22</td>\n",
       "      <td>Tiffany Mitchell</td>\n",
       "      <td>Cook PLC</td>\n",
       "      <td>Aetna</td>\n",
       "      <td>27955.096079</td>\n",
       "      <td>205</td>\n",
       "      <td>Emergency</td>\n",
       "      <td>2022-10-07</td>\n",
       "      <td>Aspirin</td>\n",
       "      <td>Normal</td>\n",
       "    </tr>\n",
       "    <tr>\n",
       "      <th>3</th>\n",
       "      <td>andrEw waTtS</td>\n",
       "      <td>28</td>\n",
       "      <td>Female</td>\n",
       "      <td>O+</td>\n",
       "      <td>Diabetes</td>\n",
       "      <td>2020-11-18</td>\n",
       "      <td>Kevin Wells</td>\n",
       "      <td>Hernandez Rogers and Vang,</td>\n",
       "      <td>Medicare</td>\n",
       "      <td>37909.782410</td>\n",
       "      <td>450</td>\n",
       "      <td>Elective</td>\n",
       "      <td>2020-12-18</td>\n",
       "      <td>Ibuprofen</td>\n",
       "      <td>Abnormal</td>\n",
       "    </tr>\n",
       "    <tr>\n",
       "      <th>4</th>\n",
       "      <td>adrIENNE bEll</td>\n",
       "      <td>43</td>\n",
       "      <td>Female</td>\n",
       "      <td>AB+</td>\n",
       "      <td>Cancer</td>\n",
       "      <td>2022-09-19</td>\n",
       "      <td>Kathleen Hanna</td>\n",
       "      <td>White-White</td>\n",
       "      <td>Aetna</td>\n",
       "      <td>14238.317814</td>\n",
       "      <td>458</td>\n",
       "      <td>Urgent</td>\n",
       "      <td>2022-10-09</td>\n",
       "      <td>Penicillin</td>\n",
       "      <td>Abnormal</td>\n",
       "    </tr>\n",
       "    <tr>\n",
       "      <th>...</th>\n",
       "      <td>...</td>\n",
       "      <td>...</td>\n",
       "      <td>...</td>\n",
       "      <td>...</td>\n",
       "      <td>...</td>\n",
       "      <td>...</td>\n",
       "      <td>...</td>\n",
       "      <td>...</td>\n",
       "      <td>...</td>\n",
       "      <td>...</td>\n",
       "      <td>...</td>\n",
       "      <td>...</td>\n",
       "      <td>...</td>\n",
       "      <td>...</td>\n",
       "      <td>...</td>\n",
       "    </tr>\n",
       "    <tr>\n",
       "      <th>55495</th>\n",
       "      <td>eLIZABeTH jaCkSOn</td>\n",
       "      <td>42</td>\n",
       "      <td>Female</td>\n",
       "      <td>O+</td>\n",
       "      <td>Asthma</td>\n",
       "      <td>2020-08-16</td>\n",
       "      <td>Joshua Jarvis</td>\n",
       "      <td>Jones-Thompson</td>\n",
       "      <td>Blue Cross</td>\n",
       "      <td>2650.714952</td>\n",
       "      <td>417</td>\n",
       "      <td>Elective</td>\n",
       "      <td>2020-09-15</td>\n",
       "      <td>Penicillin</td>\n",
       "      <td>Abnormal</td>\n",
       "    </tr>\n",
       "    <tr>\n",
       "      <th>55496</th>\n",
       "      <td>KYle pEREz</td>\n",
       "      <td>61</td>\n",
       "      <td>Female</td>\n",
       "      <td>AB-</td>\n",
       "      <td>Obesity</td>\n",
       "      <td>2020-01-23</td>\n",
       "      <td>Taylor Sullivan</td>\n",
       "      <td>Tucker-Moyer</td>\n",
       "      <td>Cigna</td>\n",
       "      <td>31457.797307</td>\n",
       "      <td>316</td>\n",
       "      <td>Elective</td>\n",
       "      <td>2020-02-01</td>\n",
       "      <td>Aspirin</td>\n",
       "      <td>Normal</td>\n",
       "    </tr>\n",
       "    <tr>\n",
       "      <th>55497</th>\n",
       "      <td>HEATher WaNG</td>\n",
       "      <td>38</td>\n",
       "      <td>Female</td>\n",
       "      <td>B+</td>\n",
       "      <td>Hypertension</td>\n",
       "      <td>2020-07-13</td>\n",
       "      <td>Joe Jacobs DVM</td>\n",
       "      <td>and Mahoney Johnson Vasquez,</td>\n",
       "      <td>UnitedHealthcare</td>\n",
       "      <td>27620.764717</td>\n",
       "      <td>347</td>\n",
       "      <td>Urgent</td>\n",
       "      <td>2020-08-10</td>\n",
       "      <td>Ibuprofen</td>\n",
       "      <td>Abnormal</td>\n",
       "    </tr>\n",
       "    <tr>\n",
       "      <th>55498</th>\n",
       "      <td>JENniFER JOneS</td>\n",
       "      <td>43</td>\n",
       "      <td>Male</td>\n",
       "      <td>O-</td>\n",
       "      <td>Arthritis</td>\n",
       "      <td>2019-05-25</td>\n",
       "      <td>Kimberly Curry</td>\n",
       "      <td>Jackson Todd and Castro,</td>\n",
       "      <td>Medicare</td>\n",
       "      <td>32451.092358</td>\n",
       "      <td>321</td>\n",
       "      <td>Elective</td>\n",
       "      <td>2019-05-31</td>\n",
       "      <td>Ibuprofen</td>\n",
       "      <td>Abnormal</td>\n",
       "    </tr>\n",
       "    <tr>\n",
       "      <th>55499</th>\n",
       "      <td>jAMES GARCiA</td>\n",
       "      <td>53</td>\n",
       "      <td>Female</td>\n",
       "      <td>O+</td>\n",
       "      <td>Arthritis</td>\n",
       "      <td>2024-04-02</td>\n",
       "      <td>Dennis Warren</td>\n",
       "      <td>Henry Sons and</td>\n",
       "      <td>Aetna</td>\n",
       "      <td>4010.134172</td>\n",
       "      <td>448</td>\n",
       "      <td>Urgent</td>\n",
       "      <td>2024-04-29</td>\n",
       "      <td>Ibuprofen</td>\n",
       "      <td>Abnormal</td>\n",
       "    </tr>\n",
       "  </tbody>\n",
       "</table>\n",
       "<p>55500 rows × 15 columns</p>\n",
       "</div>"
      ],
      "text/plain": [
       "                    Name  Age  Gender Blood Type Medical Condition  \\\n",
       "0          Bobby JacksOn   30    Male         B-            Cancer   \n",
       "1           LesLie TErRy   62    Male         A+           Obesity   \n",
       "2            DaNnY sMitH   76  Female         A-           Obesity   \n",
       "3           andrEw waTtS   28  Female         O+          Diabetes   \n",
       "4          adrIENNE bEll   43  Female        AB+            Cancer   \n",
       "...                  ...  ...     ...        ...               ...   \n",
       "55495  eLIZABeTH jaCkSOn   42  Female         O+            Asthma   \n",
       "55496         KYle pEREz   61  Female        AB-           Obesity   \n",
       "55497       HEATher WaNG   38  Female         B+      Hypertension   \n",
       "55498     JENniFER JOneS   43    Male         O-         Arthritis   \n",
       "55499       jAMES GARCiA   53  Female         O+         Arthritis   \n",
       "\n",
       "      Date of Admission            Doctor                      Hospital  \\\n",
       "0            2024-01-31     Matthew Smith               Sons and Miller   \n",
       "1            2019-08-20   Samantha Davies                       Kim Inc   \n",
       "2            2022-09-22  Tiffany Mitchell                      Cook PLC   \n",
       "3            2020-11-18       Kevin Wells    Hernandez Rogers and Vang,   \n",
       "4            2022-09-19    Kathleen Hanna                   White-White   \n",
       "...                 ...               ...                           ...   \n",
       "55495        2020-08-16     Joshua Jarvis                Jones-Thompson   \n",
       "55496        2020-01-23   Taylor Sullivan                  Tucker-Moyer   \n",
       "55497        2020-07-13    Joe Jacobs DVM  and Mahoney Johnson Vasquez,   \n",
       "55498        2019-05-25    Kimberly Curry      Jackson Todd and Castro,   \n",
       "55499        2024-04-02     Dennis Warren                Henry Sons and   \n",
       "\n",
       "      Insurance Provider  Billing Amount  Room Number Admission Type  \\\n",
       "0             Blue Cross    18856.281306          328         Urgent   \n",
       "1               Medicare    33643.327287          265      Emergency   \n",
       "2                  Aetna    27955.096079          205      Emergency   \n",
       "3               Medicare    37909.782410          450       Elective   \n",
       "4                  Aetna    14238.317814          458         Urgent   \n",
       "...                  ...             ...          ...            ...   \n",
       "55495         Blue Cross     2650.714952          417       Elective   \n",
       "55496              Cigna    31457.797307          316       Elective   \n",
       "55497   UnitedHealthcare    27620.764717          347         Urgent   \n",
       "55498           Medicare    32451.092358          321       Elective   \n",
       "55499              Aetna     4010.134172          448         Urgent   \n",
       "\n",
       "      Discharge Date   Medication  Test Results  \n",
       "0         2024-02-02  Paracetamol        Normal  \n",
       "1         2019-08-26    Ibuprofen  Inconclusive  \n",
       "2         2022-10-07      Aspirin        Normal  \n",
       "3         2020-12-18    Ibuprofen      Abnormal  \n",
       "4         2022-10-09   Penicillin      Abnormal  \n",
       "...              ...          ...           ...  \n",
       "55495     2020-09-15   Penicillin      Abnormal  \n",
       "55496     2020-02-01      Aspirin        Normal  \n",
       "55497     2020-08-10    Ibuprofen      Abnormal  \n",
       "55498     2019-05-31    Ibuprofen      Abnormal  \n",
       "55499     2024-04-29    Ibuprofen      Abnormal  \n",
       "\n",
       "[55500 rows x 15 columns]"
      ]
     },
     "execution_count": 3,
     "metadata": {},
     "output_type": "execute_result"
    }
   ],
   "source": [
    "df"
   ]
  },
  {
   "cell_type": "code",
   "execution_count": 4,
   "id": "8afb8518",
   "metadata": {
    "execution": {
     "iopub.execute_input": "2024-06-05T09:55:53.800264Z",
     "iopub.status.busy": "2024-06-05T09:55:53.799368Z",
     "iopub.status.idle": "2024-06-05T09:55:53.805996Z",
     "shell.execute_reply": "2024-06-05T09:55:53.805054Z"
    },
    "papermill": {
     "duration": 0.016005,
     "end_time": "2024-06-05T09:55:53.808137",
     "exception": false,
     "start_time": "2024-06-05T09:55:53.792132",
     "status": "completed"
    },
    "tags": []
   },
   "outputs": [
    {
     "data": {
      "text/plain": [
       "Index(['Name', 'Age', 'Gender', 'Blood Type', 'Medical Condition',\n",
       "       'Date of Admission', 'Doctor', 'Hospital', 'Insurance Provider',\n",
       "       'Billing Amount', 'Room Number', 'Admission Type', 'Discharge Date',\n",
       "       'Medication', 'Test Results'],\n",
       "      dtype='object')"
      ]
     },
     "execution_count": 4,
     "metadata": {},
     "output_type": "execute_result"
    }
   ],
   "source": [
    "df.columns"
   ]
  },
  {
   "cell_type": "markdown",
   "id": "45a12a7e",
   "metadata": {
    "papermill": {
     "duration": 0.005818,
     "end_time": "2024-06-05T09:55:53.820481",
     "exception": false,
     "start_time": "2024-06-05T09:55:53.814663",
     "status": "completed"
    },
    "tags": []
   },
   "source": [
    "# Removing Unnecessary Columns"
   ]
  },
  {
   "cell_type": "code",
   "execution_count": 5,
   "id": "e586dd73",
   "metadata": {
    "execution": {
     "iopub.execute_input": "2024-06-05T09:55:53.834863Z",
     "iopub.status.busy": "2024-06-05T09:55:53.833943Z",
     "iopub.status.idle": "2024-06-05T09:55:53.851716Z",
     "shell.execute_reply": "2024-06-05T09:55:53.850700Z"
    },
    "papermill": {
     "duration": 0.0271,
     "end_time": "2024-06-05T09:55:53.853839",
     "exception": false,
     "start_time": "2024-06-05T09:55:53.826739",
     "status": "completed"
    },
    "tags": []
   },
   "outputs": [],
   "source": [
    "df = df.drop([\"Date of Admission\"], axis=1)\n",
    "\n",
    "\n"
   ]
  },
  {
   "cell_type": "code",
   "execution_count": 6,
   "id": "8cf74cc1",
   "metadata": {
    "execution": {
     "iopub.execute_input": "2024-06-05T09:55:53.867470Z",
     "iopub.status.busy": "2024-06-05T09:55:53.867103Z",
     "iopub.status.idle": "2024-06-05T09:55:53.880605Z",
     "shell.execute_reply": "2024-06-05T09:55:53.879563Z"
    },
    "papermill": {
     "duration": 0.022814,
     "end_time": "2024-06-05T09:55:53.882732",
     "exception": false,
     "start_time": "2024-06-05T09:55:53.859918",
     "status": "completed"
    },
    "tags": []
   },
   "outputs": [],
   "source": [
    "df = df.drop([\"Discharge Date\"], axis=1)\n"
   ]
  },
  {
   "cell_type": "code",
   "execution_count": 7,
   "id": "5d0f101e",
   "metadata": {
    "execution": {
     "iopub.execute_input": "2024-06-05T09:55:53.896461Z",
     "iopub.status.busy": "2024-06-05T09:55:53.895817Z",
     "iopub.status.idle": "2024-06-05T09:55:53.907648Z",
     "shell.execute_reply": "2024-06-05T09:55:53.906814Z"
    },
    "papermill": {
     "duration": 0.021019,
     "end_time": "2024-06-05T09:55:53.909818",
     "exception": false,
     "start_time": "2024-06-05T09:55:53.888799",
     "status": "completed"
    },
    "tags": []
   },
   "outputs": [],
   "source": [
    "df = df.drop(['Doctor'], axis=1)\n",
    "\n"
   ]
  },
  {
   "cell_type": "code",
   "execution_count": 8,
   "id": "f721ae96",
   "metadata": {
    "execution": {
     "iopub.execute_input": "2024-06-05T09:55:53.923817Z",
     "iopub.status.busy": "2024-06-05T09:55:53.922946Z",
     "iopub.status.idle": "2024-06-05T09:55:53.934229Z",
     "shell.execute_reply": "2024-06-05T09:55:53.933375Z"
    },
    "papermill": {
     "duration": 0.020545,
     "end_time": "2024-06-05T09:55:53.936447",
     "exception": false,
     "start_time": "2024-06-05T09:55:53.915902",
     "status": "completed"
    },
    "tags": []
   },
   "outputs": [],
   "source": [
    "df = df.drop(['Hospital'], axis=1)\n"
   ]
  },
  {
   "cell_type": "code",
   "execution_count": 9,
   "id": "7052f3c5",
   "metadata": {
    "execution": {
     "iopub.execute_input": "2024-06-05T09:55:53.950352Z",
     "iopub.status.busy": "2024-06-05T09:55:53.949973Z",
     "iopub.status.idle": "2024-06-05T09:55:53.960973Z",
     "shell.execute_reply": "2024-06-05T09:55:53.960064Z"
    },
    "papermill": {
     "duration": 0.020683,
     "end_time": "2024-06-05T09:55:53.963398",
     "exception": false,
     "start_time": "2024-06-05T09:55:53.942715",
     "status": "completed"
    },
    "tags": []
   },
   "outputs": [],
   "source": [
    "df = df.drop(['Room Number'], axis=1)\n"
   ]
  },
  {
   "cell_type": "code",
   "execution_count": 10,
   "id": "6d5603d2",
   "metadata": {
    "execution": {
     "iopub.execute_input": "2024-06-05T09:55:53.977906Z",
     "iopub.status.busy": "2024-06-05T09:55:53.976983Z",
     "iopub.status.idle": "2024-06-05T09:55:53.987425Z",
     "shell.execute_reply": "2024-06-05T09:55:53.986586Z"
    },
    "papermill": {
     "duration": 0.02003,
     "end_time": "2024-06-05T09:55:53.989756",
     "exception": false,
     "start_time": "2024-06-05T09:55:53.969726",
     "status": "completed"
    },
    "tags": []
   },
   "outputs": [],
   "source": [
    "df = df.drop(['Name'], axis=1)"
   ]
  },
  {
   "cell_type": "code",
   "execution_count": 11,
   "id": "236c6a5b",
   "metadata": {
    "execution": {
     "iopub.execute_input": "2024-06-05T09:55:54.003856Z",
     "iopub.status.busy": "2024-06-05T09:55:54.003127Z",
     "iopub.status.idle": "2024-06-05T09:55:54.013320Z",
     "shell.execute_reply": "2024-06-05T09:55:54.012201Z"
    },
    "papermill": {
     "duration": 0.0197,
     "end_time": "2024-06-05T09:55:54.015585",
     "exception": false,
     "start_time": "2024-06-05T09:55:53.995885",
     "status": "completed"
    },
    "tags": []
   },
   "outputs": [],
   "source": [
    "df = df.drop(['Insurance Provider'], axis=1)"
   ]
  },
  {
   "cell_type": "code",
   "execution_count": 12,
   "id": "ab77f8e9",
   "metadata": {
    "execution": {
     "iopub.execute_input": "2024-06-05T09:55:54.029692Z",
     "iopub.status.busy": "2024-06-05T09:55:54.028968Z",
     "iopub.status.idle": "2024-06-05T09:55:54.037939Z",
     "shell.execute_reply": "2024-06-05T09:55:54.037058Z"
    },
    "papermill": {
     "duration": 0.018581,
     "end_time": "2024-06-05T09:55:54.040274",
     "exception": false,
     "start_time": "2024-06-05T09:55:54.021693",
     "status": "completed"
    },
    "tags": []
   },
   "outputs": [],
   "source": [
    "df = df.drop(['Billing Amount'], axis=1)"
   ]
  },
  {
   "cell_type": "markdown",
   "id": "11ad244f",
   "metadata": {
    "papermill": {
     "duration": 0.005787,
     "end_time": "2024-06-05T09:55:54.052216",
     "exception": false,
     "start_time": "2024-06-05T09:55:54.046429",
     "status": "completed"
    },
    "tags": []
   },
   "source": [
    "# Label Encoding"
   ]
  },
  {
   "cell_type": "code",
   "execution_count": 13,
   "id": "0bebbfe3",
   "metadata": {
    "execution": {
     "iopub.execute_input": "2024-06-05T09:55:54.066024Z",
     "iopub.status.busy": "2024-06-05T09:55:54.065117Z",
     "iopub.status.idle": "2024-06-05T09:55:55.087737Z",
     "shell.execute_reply": "2024-06-05T09:55:55.086717Z"
    },
    "papermill": {
     "duration": 1.032008,
     "end_time": "2024-06-05T09:55:55.090130",
     "exception": false,
     "start_time": "2024-06-05T09:55:54.058122",
     "status": "completed"
    },
    "tags": []
   },
   "outputs": [],
   "source": [
    "from sklearn.preprocessing import LabelEncoder"
   ]
  },
  {
   "cell_type": "code",
   "execution_count": 14,
   "id": "b89e9872",
   "metadata": {
    "execution": {
     "iopub.execute_input": "2024-06-05T09:55:55.104951Z",
     "iopub.status.busy": "2024-06-05T09:55:55.104048Z",
     "iopub.status.idle": "2024-06-05T09:55:55.177140Z",
     "shell.execute_reply": "2024-06-05T09:55:55.176271Z"
    },
    "papermill": {
     "duration": 0.082811,
     "end_time": "2024-06-05T09:55:55.179641",
     "exception": false,
     "start_time": "2024-06-05T09:55:55.096830",
     "status": "completed"
    },
    "tags": []
   },
   "outputs": [],
   "source": [
    "lc=LabelEncoder()\n",
    "cols=[ 'Gender','Blood Type', 'Medical Condition','Admission Type', 'Medication','Test Results']\n",
    "for i in cols:\n",
    "  df[i]=lc.fit_transform(df[i])"
   ]
  },
  {
   "cell_type": "code",
   "execution_count": 15,
   "id": "ff6bf9c4",
   "metadata": {
    "execution": {
     "iopub.execute_input": "2024-06-05T09:55:55.193305Z",
     "iopub.status.busy": "2024-06-05T09:55:55.192692Z",
     "iopub.status.idle": "2024-06-05T09:55:55.204029Z",
     "shell.execute_reply": "2024-06-05T09:55:55.203057Z"
    },
    "papermill": {
     "duration": 0.020522,
     "end_time": "2024-06-05T09:55:55.206182",
     "exception": false,
     "start_time": "2024-06-05T09:55:55.185660",
     "status": "completed"
    },
    "tags": []
   },
   "outputs": [
    {
     "data": {
      "text/plain": [
       "Age                  0\n",
       "Gender               0\n",
       "Blood Type           0\n",
       "Medical Condition    0\n",
       "Admission Type       0\n",
       "Medication           0\n",
       "Test Results         0\n",
       "dtype: int64"
      ]
     },
     "execution_count": 15,
     "metadata": {},
     "output_type": "execute_result"
    }
   ],
   "source": [
    "df.isna().sum()"
   ]
  },
  {
   "cell_type": "code",
   "execution_count": 16,
   "id": "a4744a86",
   "metadata": {
    "execution": {
     "iopub.execute_input": "2024-06-05T09:55:55.220462Z",
     "iopub.status.busy": "2024-06-05T09:55:55.219644Z",
     "iopub.status.idle": "2024-06-05T09:55:55.233675Z",
     "shell.execute_reply": "2024-06-05T09:55:55.232706Z"
    },
    "papermill": {
     "duration": 0.023348,
     "end_time": "2024-06-05T09:55:55.235704",
     "exception": false,
     "start_time": "2024-06-05T09:55:55.212356",
     "status": "completed"
    },
    "tags": []
   },
   "outputs": [
    {
     "data": {
      "text/html": [
       "<div>\n",
       "<style scoped>\n",
       "    .dataframe tbody tr th:only-of-type {\n",
       "        vertical-align: middle;\n",
       "    }\n",
       "\n",
       "    .dataframe tbody tr th {\n",
       "        vertical-align: top;\n",
       "    }\n",
       "\n",
       "    .dataframe thead th {\n",
       "        text-align: right;\n",
       "    }\n",
       "</style>\n",
       "<table border=\"1\" class=\"dataframe\">\n",
       "  <thead>\n",
       "    <tr style=\"text-align: right;\">\n",
       "      <th></th>\n",
       "      <th>Age</th>\n",
       "      <th>Gender</th>\n",
       "      <th>Blood Type</th>\n",
       "      <th>Medical Condition</th>\n",
       "      <th>Admission Type</th>\n",
       "      <th>Medication</th>\n",
       "    </tr>\n",
       "  </thead>\n",
       "  <tbody>\n",
       "    <tr>\n",
       "      <th>0</th>\n",
       "      <td>30</td>\n",
       "      <td>1</td>\n",
       "      <td>5</td>\n",
       "      <td>2</td>\n",
       "      <td>2</td>\n",
       "      <td>3</td>\n",
       "    </tr>\n",
       "    <tr>\n",
       "      <th>1</th>\n",
       "      <td>62</td>\n",
       "      <td>1</td>\n",
       "      <td>0</td>\n",
       "      <td>5</td>\n",
       "      <td>1</td>\n",
       "      <td>1</td>\n",
       "    </tr>\n",
       "    <tr>\n",
       "      <th>2</th>\n",
       "      <td>76</td>\n",
       "      <td>0</td>\n",
       "      <td>1</td>\n",
       "      <td>5</td>\n",
       "      <td>1</td>\n",
       "      <td>0</td>\n",
       "    </tr>\n",
       "    <tr>\n",
       "      <th>3</th>\n",
       "      <td>28</td>\n",
       "      <td>0</td>\n",
       "      <td>6</td>\n",
       "      <td>3</td>\n",
       "      <td>0</td>\n",
       "      <td>1</td>\n",
       "    </tr>\n",
       "    <tr>\n",
       "      <th>4</th>\n",
       "      <td>43</td>\n",
       "      <td>0</td>\n",
       "      <td>2</td>\n",
       "      <td>2</td>\n",
       "      <td>2</td>\n",
       "      <td>4</td>\n",
       "    </tr>\n",
       "    <tr>\n",
       "      <th>...</th>\n",
       "      <td>...</td>\n",
       "      <td>...</td>\n",
       "      <td>...</td>\n",
       "      <td>...</td>\n",
       "      <td>...</td>\n",
       "      <td>...</td>\n",
       "    </tr>\n",
       "    <tr>\n",
       "      <th>55495</th>\n",
       "      <td>42</td>\n",
       "      <td>0</td>\n",
       "      <td>6</td>\n",
       "      <td>1</td>\n",
       "      <td>0</td>\n",
       "      <td>4</td>\n",
       "    </tr>\n",
       "    <tr>\n",
       "      <th>55496</th>\n",
       "      <td>61</td>\n",
       "      <td>0</td>\n",
       "      <td>3</td>\n",
       "      <td>5</td>\n",
       "      <td>0</td>\n",
       "      <td>0</td>\n",
       "    </tr>\n",
       "    <tr>\n",
       "      <th>55497</th>\n",
       "      <td>38</td>\n",
       "      <td>0</td>\n",
       "      <td>4</td>\n",
       "      <td>4</td>\n",
       "      <td>2</td>\n",
       "      <td>1</td>\n",
       "    </tr>\n",
       "    <tr>\n",
       "      <th>55498</th>\n",
       "      <td>43</td>\n",
       "      <td>1</td>\n",
       "      <td>7</td>\n",
       "      <td>0</td>\n",
       "      <td>0</td>\n",
       "      <td>1</td>\n",
       "    </tr>\n",
       "    <tr>\n",
       "      <th>55499</th>\n",
       "      <td>53</td>\n",
       "      <td>0</td>\n",
       "      <td>6</td>\n",
       "      <td>0</td>\n",
       "      <td>2</td>\n",
       "      <td>1</td>\n",
       "    </tr>\n",
       "  </tbody>\n",
       "</table>\n",
       "<p>55500 rows × 6 columns</p>\n",
       "</div>"
      ],
      "text/plain": [
       "       Age  Gender  Blood Type  Medical Condition  Admission Type  Medication\n",
       "0       30       1           5                  2               2           3\n",
       "1       62       1           0                  5               1           1\n",
       "2       76       0           1                  5               1           0\n",
       "3       28       0           6                  3               0           1\n",
       "4       43       0           2                  2               2           4\n",
       "...    ...     ...         ...                ...             ...         ...\n",
       "55495   42       0           6                  1               0           4\n",
       "55496   61       0           3                  5               0           0\n",
       "55497   38       0           4                  4               2           1\n",
       "55498   43       1           7                  0               0           1\n",
       "55499   53       0           6                  0               2           1\n",
       "\n",
       "[55500 rows x 6 columns]"
      ]
     },
     "execution_count": 16,
     "metadata": {},
     "output_type": "execute_result"
    }
   ],
   "source": [
    "y = df['Test Results']\n",
    "x = df.drop(['Test Results'], axis=1)\n",
    "x\n"
   ]
  },
  {
   "cell_type": "code",
   "execution_count": 17,
   "id": "0384f9ce",
   "metadata": {
    "execution": {
     "iopub.execute_input": "2024-06-05T09:55:55.250150Z",
     "iopub.status.busy": "2024-06-05T09:55:55.249261Z",
     "iopub.status.idle": "2024-06-05T09:55:55.256653Z",
     "shell.execute_reply": "2024-06-05T09:55:55.255731Z"
    },
    "papermill": {
     "duration": 0.016676,
     "end_time": "2024-06-05T09:55:55.258629",
     "exception": false,
     "start_time": "2024-06-05T09:55:55.241953",
     "status": "completed"
    },
    "tags": []
   },
   "outputs": [
    {
     "data": {
      "text/plain": [
       "0        2\n",
       "1        1\n",
       "2        2\n",
       "3        0\n",
       "4        0\n",
       "        ..\n",
       "55495    0\n",
       "55496    2\n",
       "55497    0\n",
       "55498    0\n",
       "55499    0\n",
       "Name: Test Results, Length: 55500, dtype: int64"
      ]
     },
     "execution_count": 17,
     "metadata": {},
     "output_type": "execute_result"
    }
   ],
   "source": [
    "y"
   ]
  },
  {
   "cell_type": "code",
   "execution_count": 18,
   "id": "c21fd75b",
   "metadata": {
    "execution": {
     "iopub.execute_input": "2024-06-05T09:55:55.273196Z",
     "iopub.status.busy": "2024-06-05T09:55:55.272314Z",
     "iopub.status.idle": "2024-06-05T09:55:55.374813Z",
     "shell.execute_reply": "2024-06-05T09:55:55.373749Z"
    },
    "papermill": {
     "duration": 0.112331,
     "end_time": "2024-06-05T09:55:55.377296",
     "exception": false,
     "start_time": "2024-06-05T09:55:55.264965",
     "status": "completed"
    },
    "tags": []
   },
   "outputs": [],
   "source": [
    "from sklearn.model_selection import train_test_split\n",
    "\n",
    "x_train, x_test, y_train, y_test = train_test_split(x,y,test_size=0.33,random_state=42)\n",
    "\n"
   ]
  },
  {
   "cell_type": "code",
   "execution_count": 19,
   "id": "fdfde260",
   "metadata": {
    "execution": {
     "iopub.execute_input": "2024-06-05T09:55:55.392206Z",
     "iopub.status.busy": "2024-06-05T09:55:55.391781Z",
     "iopub.status.idle": "2024-06-05T09:56:01.309144Z",
     "shell.execute_reply": "2024-06-05T09:56:01.308073Z"
    },
    "papermill": {
     "duration": 5.927797,
     "end_time": "2024-06-05T09:56:01.311868",
     "exception": false,
     "start_time": "2024-06-05T09:55:55.384071",
     "status": "completed"
    },
    "tags": []
   },
   "outputs": [
    {
     "data": {
      "text/plain": [
       "array([0, 2, 1, ..., 2, 1, 0])"
      ]
     },
     "execution_count": 19,
     "metadata": {},
     "output_type": "execute_result"
    }
   ],
   "source": [
    "from sklearn.ensemble import RandomForestClassifier\n",
    "\n",
    "clf = RandomForestClassifier(n_estimators=100)\n",
    "\n",
    "clf.fit(x_train, y_train)\n",
    "\n",
    "y_pred = clf.predict(x_test)\n",
    "\n",
    "y_pred\n"
   ]
  },
  {
   "cell_type": "code",
   "execution_count": 20,
   "id": "043b7364",
   "metadata": {
    "execution": {
     "iopub.execute_input": "2024-06-05T09:56:01.330626Z",
     "iopub.status.busy": "2024-06-05T09:56:01.329607Z",
     "iopub.status.idle": "2024-06-05T09:56:01.346251Z",
     "shell.execute_reply": "2024-06-05T09:56:01.345228Z"
    },
    "papermill": {
     "duration": 0.026881,
     "end_time": "2024-06-05T09:56:01.348418",
     "exception": false,
     "start_time": "2024-06-05T09:56:01.321537",
     "status": "completed"
    },
    "tags": []
   },
   "outputs": [
    {
     "data": {
      "text/plain": [
       "0.3557193557193557"
      ]
     },
     "execution_count": 20,
     "metadata": {},
     "output_type": "execute_result"
    }
   ],
   "source": [
    "\n",
    "from sklearn.metrics import accuracy_score\n",
    "accuracy=accuracy_score(y_pred,y_test)\n",
    "accuracy"
   ]
  }
 ],
 "metadata": {
  "kaggle": {
   "accelerator": "none",
   "dataSources": [
    {
     "datasetId": 5146121,
     "sourceId": 8601217,
     "sourceType": "datasetVersion"
    }
   ],
   "dockerImageVersionId": 30715,
   "isGpuEnabled": false,
   "isInternetEnabled": false,
   "language": "python",
   "sourceType": "notebook"
  },
  "kernelspec": {
   "display_name": "Python 3",
   "language": "python",
   "name": "python3"
  },
  "language_info": {
   "codemirror_mode": {
    "name": "ipython",
    "version": 3
   },
   "file_extension": ".py",
   "mimetype": "text/x-python",
   "name": "python",
   "nbconvert_exporter": "python",
   "pygments_lexer": "ipython3",
   "version": "3.10.13"
  },
  "papermill": {
   "default_parameters": {},
   "duration": 12.056854,
   "end_time": "2024-06-05T09:56:01.975682",
   "environment_variables": {},
   "exception": null,
   "input_path": "__notebook__.ipynb",
   "output_path": "__notebook__.ipynb",
   "parameters": {},
   "start_time": "2024-06-05T09:55:49.918828",
   "version": "2.5.0"
  }
 },
 "nbformat": 4,
 "nbformat_minor": 5
}
