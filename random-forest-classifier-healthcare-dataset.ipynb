{
 "cells": [
  {
   "cell_type": "code",
   "execution_count": 1,
   "id": "d3ab9052",
   "metadata": {
    "_cell_guid": "b1076dfc-b9ad-4769-8c92-a6c4dae69d19",
    "_uuid": "8f2839f25d086af736a60e9eeb907d3b93b6e0e5",
    "execution": {
     "iopub.execute_input": "2024-06-05T09:57:10.990706Z",
     "iopub.status.busy": "2024-06-05T09:57:10.989734Z",
     "iopub.status.idle": "2024-06-05T09:57:11.986196Z",
     "shell.execute_reply": "2024-06-05T09:57:11.984923Z"
    },
    "papermill": {
     "duration": 1.009305,
     "end_time": "2024-06-05T09:57:11.988943",
     "exception": false,
     "start_time": "2024-06-05T09:57:10.979638",
     "status": "completed"
    },
    "tags": []
   },
   "outputs": [
    {
     "name": "stdout",
     "output_type": "stream",
     "text": [
      "/kaggle/input/healthcare/healthcare_dataset.csv\n"
     ]
    }
   ],
   "source": [
    "# This Python 3 environment comes with many helpful analytics libraries installed\n",
    "# It is defined by the kaggle/python Docker image: https://github.com/kaggle/docker-python\n",
    "# For example, here's several helpful packages to load\n",
    "\n",
    "import numpy as np # linear algebra\n",
    "import pandas as pd # data processing, CSV file I/O (e.g. pd.read_csv)\n",
    "\n",
    "# Input data files are available in the read-only \"../input/\" directory\n",
    "# For example, running this (by clicking run or pressing Shift+Enter) will list all files under the input directory\n",
    "\n",
    "import os\n",
    "for dirname, _, filenames in os.walk('/kaggle/input'):\n",
    "    for filename in filenames:\n",
    "        print(os.path.join(dirname, filename))\n",
    "\n",
    "# You can write up to 20GB to the current directory (/kaggle/working/) that gets preserved as output when you create a version using \"Save & Run All\" \n",
    "# You can also write temporary files to /kaggle/temp/, but they won't be saved outside of the current session"
   ]
  },
  {
   "cell_type": "markdown",
   "id": "df47dfda",
   "metadata": {
    "papermill": {
     "duration": 0.007639,
     "end_time": "2024-06-05T09:57:12.005121",
     "exception": false,
     "start_time": "2024-06-05T09:57:11.997482",
     "status": "completed"
    },
    "tags": []
   },
   "source": [
    "# Random Forest Classifier HealthCare"
   ]
  },
  {
   "cell_type": "code",
   "execution_count": 2,
   "id": "95847f35",
   "metadata": {
    "execution": {
     "iopub.execute_input": "2024-06-05T09:57:12.022992Z",
     "iopub.status.busy": "2024-06-05T09:57:12.021992Z",
     "iopub.status.idle": "2024-06-05T09:57:12.425395Z",
     "shell.execute_reply": "2024-06-05T09:57:12.424001Z"
    },
    "papermill": {
     "duration": 0.415408,
     "end_time": "2024-06-05T09:57:12.428348",
     "exception": false,
     "start_time": "2024-06-05T09:57:12.012940",
     "status": "completed"
    },
    "tags": []
   },
   "outputs": [],
   "source": [
    "\n",
    "import matplotlib.pyplot as plt\n",
    "\n",
    "\n",
    "df = pd.read_csv('/kaggle/input/healthcare/healthcare_dataset.csv')"
   ]
  },
  {
   "cell_type": "code",
   "execution_count": 3,
   "id": "49330804",
   "metadata": {
    "execution": {
     "iopub.execute_input": "2024-06-05T09:57:12.445941Z",
     "iopub.status.busy": "2024-06-05T09:57:12.445530Z",
     "iopub.status.idle": "2024-06-05T09:57:12.485878Z",
     "shell.execute_reply": "2024-06-05T09:57:12.484619Z"
    },
    "papermill": {
     "duration": 0.051975,
     "end_time": "2024-06-05T09:57:12.488407",
     "exception": false,
     "start_time": "2024-06-05T09:57:12.436432",
     "status": "completed"
    },
    "tags": []
   },
   "outputs": [
    {
     "data": {
      "text/html": [
       "<div>\n",
       "<style scoped>\n",
       "    .dataframe tbody tr th:only-of-type {\n",
       "        vertical-align: middle;\n",
       "    }\n",
       "\n",
       "    .dataframe tbody tr th {\n",
       "        vertical-align: top;\n",
       "    }\n",
       "\n",
       "    .dataframe thead th {\n",
       "        text-align: right;\n",
       "    }\n",
       "</style>\n",
       "<table border=\"1\" class=\"dataframe\">\n",
       "  <thead>\n",
       "    <tr style=\"text-align: right;\">\n",
       "      <th></th>\n",
       "      <th>Name</th>\n",
       "      <th>Age</th>\n",
       "      <th>Gender</th>\n",
       "      <th>Blood Type</th>\n",
       "      <th>Medical Condition</th>\n",
       "      <th>Date of Admission</th>\n",
       "      <th>Doctor</th>\n",
       "      <th>Hospital</th>\n",
       "      <th>Insurance Provider</th>\n",
       "      <th>Billing Amount</th>\n",
       "      <th>Room Number</th>\n",
       "      <th>Admission Type</th>\n",
       "      <th>Discharge Date</th>\n",
       "      <th>Medication</th>\n",
       "      <th>Test Results</th>\n",
       "    </tr>\n",
       "  </thead>\n",
       "  <tbody>\n",
       "    <tr>\n",
       "      <th>0</th>\n",
       "      <td>Bobby JacksOn</td>\n",
       "      <td>30</td>\n",
       "      <td>Male</td>\n",
       "      <td>B-</td>\n",
       "      <td>Cancer</td>\n",
       "      <td>2024-01-31</td>\n",
       "      <td>Matthew Smith</td>\n",
       "      <td>Sons and Miller</td>\n",
       "      <td>Blue Cross</td>\n",
       "      <td>18856.281306</td>\n",
       "      <td>328</td>\n",
       "      <td>Urgent</td>\n",
       "      <td>2024-02-02</td>\n",
       "      <td>Paracetamol</td>\n",
       "      <td>Normal</td>\n",
       "    </tr>\n",
       "    <tr>\n",
       "      <th>1</th>\n",
       "      <td>LesLie TErRy</td>\n",
       "      <td>62</td>\n",
       "      <td>Male</td>\n",
       "      <td>A+</td>\n",
       "      <td>Obesity</td>\n",
       "      <td>2019-08-20</td>\n",
       "      <td>Samantha Davies</td>\n",
       "      <td>Kim Inc</td>\n",
       "      <td>Medicare</td>\n",
       "      <td>33643.327287</td>\n",
       "      <td>265</td>\n",
       "      <td>Emergency</td>\n",
       "      <td>2019-08-26</td>\n",
       "      <td>Ibuprofen</td>\n",
       "      <td>Inconclusive</td>\n",
       "    </tr>\n",
       "    <tr>\n",
       "      <th>2</th>\n",
       "      <td>DaNnY sMitH</td>\n",
       "      <td>76</td>\n",
       "      <td>Female</td>\n",
       "      <td>A-</td>\n",
       "      <td>Obesity</td>\n",
       "      <td>2022-09-22</td>\n",
       "      <td>Tiffany Mitchell</td>\n",
       "      <td>Cook PLC</td>\n",
       "      <td>Aetna</td>\n",
       "      <td>27955.096079</td>\n",
       "      <td>205</td>\n",
       "      <td>Emergency</td>\n",
       "      <td>2022-10-07</td>\n",
       "      <td>Aspirin</td>\n",
       "      <td>Normal</td>\n",
       "    </tr>\n",
       "    <tr>\n",
       "      <th>3</th>\n",
       "      <td>andrEw waTtS</td>\n",
       "      <td>28</td>\n",
       "      <td>Female</td>\n",
       "      <td>O+</td>\n",
       "      <td>Diabetes</td>\n",
       "      <td>2020-11-18</td>\n",
       "      <td>Kevin Wells</td>\n",
       "      <td>Hernandez Rogers and Vang,</td>\n",
       "      <td>Medicare</td>\n",
       "      <td>37909.782410</td>\n",
       "      <td>450</td>\n",
       "      <td>Elective</td>\n",
       "      <td>2020-12-18</td>\n",
       "      <td>Ibuprofen</td>\n",
       "      <td>Abnormal</td>\n",
       "    </tr>\n",
       "    <tr>\n",
       "      <th>4</th>\n",
       "      <td>adrIENNE bEll</td>\n",
       "      <td>43</td>\n",
       "      <td>Female</td>\n",
       "      <td>AB+</td>\n",
       "      <td>Cancer</td>\n",
       "      <td>2022-09-19</td>\n",
       "      <td>Kathleen Hanna</td>\n",
       "      <td>White-White</td>\n",
       "      <td>Aetna</td>\n",
       "      <td>14238.317814</td>\n",
       "      <td>458</td>\n",
       "      <td>Urgent</td>\n",
       "      <td>2022-10-09</td>\n",
       "      <td>Penicillin</td>\n",
       "      <td>Abnormal</td>\n",
       "    </tr>\n",
       "    <tr>\n",
       "      <th>...</th>\n",
       "      <td>...</td>\n",
       "      <td>...</td>\n",
       "      <td>...</td>\n",
       "      <td>...</td>\n",
       "      <td>...</td>\n",
       "      <td>...</td>\n",
       "      <td>...</td>\n",
       "      <td>...</td>\n",
       "      <td>...</td>\n",
       "      <td>...</td>\n",
       "      <td>...</td>\n",
       "      <td>...</td>\n",
       "      <td>...</td>\n",
       "      <td>...</td>\n",
       "      <td>...</td>\n",
       "    </tr>\n",
       "    <tr>\n",
       "      <th>55495</th>\n",
       "      <td>eLIZABeTH jaCkSOn</td>\n",
       "      <td>42</td>\n",
       "      <td>Female</td>\n",
       "      <td>O+</td>\n",
       "      <td>Asthma</td>\n",
       "      <td>2020-08-16</td>\n",
       "      <td>Joshua Jarvis</td>\n",
       "      <td>Jones-Thompson</td>\n",
       "      <td>Blue Cross</td>\n",
       "      <td>2650.714952</td>\n",
       "      <td>417</td>\n",
       "      <td>Elective</td>\n",
       "      <td>2020-09-15</td>\n",
       "      <td>Penicillin</td>\n",
       "      <td>Abnormal</td>\n",
       "    </tr>\n",
       "    <tr>\n",
       "      <th>55496</th>\n",
       "      <td>KYle pEREz</td>\n",
       "      <td>61</td>\n",
       "      <td>Female</td>\n",
       "      <td>AB-</td>\n",
       "      <td>Obesity</td>\n",
       "      <td>2020-01-23</td>\n",
       "      <td>Taylor Sullivan</td>\n",
       "      <td>Tucker-Moyer</td>\n",
       "      <td>Cigna</td>\n",
       "      <td>31457.797307</td>\n",
       "      <td>316</td>\n",
       "      <td>Elective</td>\n",
       "      <td>2020-02-01</td>\n",
       "      <td>Aspirin</td>\n",
       "      <td>Normal</td>\n",
       "    </tr>\n",
       "    <tr>\n",
       "      <th>55497</th>\n",
       "      <td>HEATher WaNG</td>\n",
       "      <td>38</td>\n",
       "      <td>Female</td>\n",
       "      <td>B+</td>\n",
       "      <td>Hypertension</td>\n",
       "      <td>2020-07-13</td>\n",
       "      <td>Joe Jacobs DVM</td>\n",
       "      <td>and Mahoney Johnson Vasquez,</td>\n",
       "      <td>UnitedHealthcare</td>\n",
       "      <td>27620.764717</td>\n",
       "      <td>347</td>\n",
       "      <td>Urgent</td>\n",
       "      <td>2020-08-10</td>\n",
       "      <td>Ibuprofen</td>\n",
       "      <td>Abnormal</td>\n",
       "    </tr>\n",
       "    <tr>\n",
       "      <th>55498</th>\n",
       "      <td>JENniFER JOneS</td>\n",
       "      <td>43</td>\n",
       "      <td>Male</td>\n",
       "      <td>O-</td>\n",
       "      <td>Arthritis</td>\n",
       "      <td>2019-05-25</td>\n",
       "      <td>Kimberly Curry</td>\n",
       "      <td>Jackson Todd and Castro,</td>\n",
       "      <td>Medicare</td>\n",
       "      <td>32451.092358</td>\n",
       "      <td>321</td>\n",
       "      <td>Elective</td>\n",
       "      <td>2019-05-31</td>\n",
       "      <td>Ibuprofen</td>\n",
       "      <td>Abnormal</td>\n",
       "    </tr>\n",
       "    <tr>\n",
       "      <th>55499</th>\n",
       "      <td>jAMES GARCiA</td>\n",
       "      <td>53</td>\n",
       "      <td>Female</td>\n",
       "      <td>O+</td>\n",
       "      <td>Arthritis</td>\n",
       "      <td>2024-04-02</td>\n",
       "      <td>Dennis Warren</td>\n",
       "      <td>Henry Sons and</td>\n",
       "      <td>Aetna</td>\n",
       "      <td>4010.134172</td>\n",
       "      <td>448</td>\n",
       "      <td>Urgent</td>\n",
       "      <td>2024-04-29</td>\n",
       "      <td>Ibuprofen</td>\n",
       "      <td>Abnormal</td>\n",
       "    </tr>\n",
       "  </tbody>\n",
       "</table>\n",
       "<p>55500 rows × 15 columns</p>\n",
       "</div>"
      ],
      "text/plain": [
       "                    Name  Age  Gender Blood Type Medical Condition  \\\n",
       "0          Bobby JacksOn   30    Male         B-            Cancer   \n",
       "1           LesLie TErRy   62    Male         A+           Obesity   \n",
       "2            DaNnY sMitH   76  Female         A-           Obesity   \n",
       "3           andrEw waTtS   28  Female         O+          Diabetes   \n",
       "4          adrIENNE bEll   43  Female        AB+            Cancer   \n",
       "...                  ...  ...     ...        ...               ...   \n",
       "55495  eLIZABeTH jaCkSOn   42  Female         O+            Asthma   \n",
       "55496         KYle pEREz   61  Female        AB-           Obesity   \n",
       "55497       HEATher WaNG   38  Female         B+      Hypertension   \n",
       "55498     JENniFER JOneS   43    Male         O-         Arthritis   \n",
       "55499       jAMES GARCiA   53  Female         O+         Arthritis   \n",
       "\n",
       "      Date of Admission            Doctor                      Hospital  \\\n",
       "0            2024-01-31     Matthew Smith               Sons and Miller   \n",
       "1            2019-08-20   Samantha Davies                       Kim Inc   \n",
       "2            2022-09-22  Tiffany Mitchell                      Cook PLC   \n",
       "3            2020-11-18       Kevin Wells    Hernandez Rogers and Vang,   \n",
       "4            2022-09-19    Kathleen Hanna                   White-White   \n",
       "...                 ...               ...                           ...   \n",
       "55495        2020-08-16     Joshua Jarvis                Jones-Thompson   \n",
       "55496        2020-01-23   Taylor Sullivan                  Tucker-Moyer   \n",
       "55497        2020-07-13    Joe Jacobs DVM  and Mahoney Johnson Vasquez,   \n",
       "55498        2019-05-25    Kimberly Curry      Jackson Todd and Castro,   \n",
       "55499        2024-04-02     Dennis Warren                Henry Sons and   \n",
       "\n",
       "      Insurance Provider  Billing Amount  Room Number Admission Type  \\\n",
       "0             Blue Cross    18856.281306          328         Urgent   \n",
       "1               Medicare    33643.327287          265      Emergency   \n",
       "2                  Aetna    27955.096079          205      Emergency   \n",
       "3               Medicare    37909.782410          450       Elective   \n",
       "4                  Aetna    14238.317814          458         Urgent   \n",
       "...                  ...             ...          ...            ...   \n",
       "55495         Blue Cross     2650.714952          417       Elective   \n",
       "55496              Cigna    31457.797307          316       Elective   \n",
       "55497   UnitedHealthcare    27620.764717          347         Urgent   \n",
       "55498           Medicare    32451.092358          321       Elective   \n",
       "55499              Aetna     4010.134172          448         Urgent   \n",
       "\n",
       "      Discharge Date   Medication  Test Results  \n",
       "0         2024-02-02  Paracetamol        Normal  \n",
       "1         2019-08-26    Ibuprofen  Inconclusive  \n",
       "2         2022-10-07      Aspirin        Normal  \n",
       "3         2020-12-18    Ibuprofen      Abnormal  \n",
       "4         2022-10-09   Penicillin      Abnormal  \n",
       "...              ...          ...           ...  \n",
       "55495     2020-09-15   Penicillin      Abnormal  \n",
       "55496     2020-02-01      Aspirin        Normal  \n",
       "55497     2020-08-10    Ibuprofen      Abnormal  \n",
       "55498     2019-05-31    Ibuprofen      Abnormal  \n",
       "55499     2024-04-29    Ibuprofen      Abnormal  \n",
       "\n",
       "[55500 rows x 15 columns]"
      ]
     },
     "execution_count": 3,
     "metadata": {},
     "output_type": "execute_result"
    }
   ],
   "source": [
    "df"
   ]
  },
  {
   "cell_type": "code",
   "execution_count": 4,
   "id": "993cfe60",
   "metadata": {
    "execution": {
     "iopub.execute_input": "2024-06-05T09:57:12.507005Z",
     "iopub.status.busy": "2024-06-05T09:57:12.506567Z",
     "iopub.status.idle": "2024-06-05T09:57:12.514167Z",
     "shell.execute_reply": "2024-06-05T09:57:12.513040Z"
    },
    "papermill": {
     "duration": 0.019837,
     "end_time": "2024-06-05T09:57:12.516572",
     "exception": false,
     "start_time": "2024-06-05T09:57:12.496735",
     "status": "completed"
    },
    "tags": []
   },
   "outputs": [
    {
     "data": {
      "text/plain": [
       "Index(['Name', 'Age', 'Gender', 'Blood Type', 'Medical Condition',\n",
       "       'Date of Admission', 'Doctor', 'Hospital', 'Insurance Provider',\n",
       "       'Billing Amount', 'Room Number', 'Admission Type', 'Discharge Date',\n",
       "       'Medication', 'Test Results'],\n",
       "      dtype='object')"
      ]
     },
     "execution_count": 4,
     "metadata": {},
     "output_type": "execute_result"
    }
   ],
   "source": [
    "df.columns"
   ]
  },
  {
   "cell_type": "markdown",
   "id": "1c4b22f7",
   "metadata": {
    "papermill": {
     "duration": 0.008391,
     "end_time": "2024-06-05T09:57:12.533572",
     "exception": false,
     "start_time": "2024-06-05T09:57:12.525181",
     "status": "completed"
    },
    "tags": []
   },
   "source": [
    "# Removing Unnecessary Columns"
   ]
  },
  {
   "cell_type": "code",
   "execution_count": 5,
   "id": "f9c1b4dd",
   "metadata": {
    "execution": {
     "iopub.execute_input": "2024-06-05T09:57:12.553919Z",
     "iopub.status.busy": "2024-06-05T09:57:12.553530Z",
     "iopub.status.idle": "2024-06-05T09:57:12.570379Z",
     "shell.execute_reply": "2024-06-05T09:57:12.569328Z"
    },
    "papermill": {
     "duration": 0.030149,
     "end_time": "2024-06-05T09:57:12.572886",
     "exception": false,
     "start_time": "2024-06-05T09:57:12.542737",
     "status": "completed"
    },
    "tags": []
   },
   "outputs": [],
   "source": [
    "df = df.drop([\"Date of Admission\"], axis=1)\n",
    "\n",
    "\n"
   ]
  },
  {
   "cell_type": "code",
   "execution_count": 6,
   "id": "32574029",
   "metadata": {
    "execution": {
     "iopub.execute_input": "2024-06-05T09:57:12.592116Z",
     "iopub.status.busy": "2024-06-05T09:57:12.591659Z",
     "iopub.status.idle": "2024-06-05T09:57:12.606367Z",
     "shell.execute_reply": "2024-06-05T09:57:12.605355Z"
    },
    "papermill": {
     "duration": 0.027652,
     "end_time": "2024-06-05T09:57:12.609216",
     "exception": false,
     "start_time": "2024-06-05T09:57:12.581564",
     "status": "completed"
    },
    "tags": []
   },
   "outputs": [],
   "source": [
    "df = df.drop([\"Discharge Date\"], axis=1)\n"
   ]
  },
  {
   "cell_type": "code",
   "execution_count": 7,
   "id": "f38c0517",
   "metadata": {
    "execution": {
     "iopub.execute_input": "2024-06-05T09:57:12.628349Z",
     "iopub.status.busy": "2024-06-05T09:57:12.627935Z",
     "iopub.status.idle": "2024-06-05T09:57:12.641560Z",
     "shell.execute_reply": "2024-06-05T09:57:12.640160Z"
    },
    "papermill": {
     "duration": 0.026368,
     "end_time": "2024-06-05T09:57:12.644399",
     "exception": false,
     "start_time": "2024-06-05T09:57:12.618031",
     "status": "completed"
    },
    "tags": []
   },
   "outputs": [],
   "source": [
    "df = df.drop(['Doctor'], axis=1)\n",
    "\n"
   ]
  },
  {
   "cell_type": "code",
   "execution_count": 8,
   "id": "a2ba8c18",
   "metadata": {
    "execution": {
     "iopub.execute_input": "2024-06-05T09:57:12.663480Z",
     "iopub.status.busy": "2024-06-05T09:57:12.663086Z",
     "iopub.status.idle": "2024-06-05T09:57:12.675017Z",
     "shell.execute_reply": "2024-06-05T09:57:12.674015Z"
    },
    "papermill": {
     "duration": 0.024859,
     "end_time": "2024-06-05T09:57:12.678051",
     "exception": false,
     "start_time": "2024-06-05T09:57:12.653192",
     "status": "completed"
    },
    "tags": []
   },
   "outputs": [],
   "source": [
    "df = df.drop(['Hospital'], axis=1)\n"
   ]
  },
  {
   "cell_type": "code",
   "execution_count": 9,
   "id": "a5a2da1d",
   "metadata": {
    "execution": {
     "iopub.execute_input": "2024-06-05T09:57:12.697177Z",
     "iopub.status.busy": "2024-06-05T09:57:12.696732Z",
     "iopub.status.idle": "2024-06-05T09:57:12.709482Z",
     "shell.execute_reply": "2024-06-05T09:57:12.708323Z"
    },
    "papermill": {
     "duration": 0.026038,
     "end_time": "2024-06-05T09:57:12.712705",
     "exception": false,
     "start_time": "2024-06-05T09:57:12.686667",
     "status": "completed"
    },
    "tags": []
   },
   "outputs": [],
   "source": [
    "df = df.drop(['Room Number'], axis=1)\n"
   ]
  },
  {
   "cell_type": "code",
   "execution_count": 10,
   "id": "1609f7f9",
   "metadata": {
    "execution": {
     "iopub.execute_input": "2024-06-05T09:57:12.732553Z",
     "iopub.status.busy": "2024-06-05T09:57:12.732053Z",
     "iopub.status.idle": "2024-06-05T09:57:12.744202Z",
     "shell.execute_reply": "2024-06-05T09:57:12.743040Z"
    },
    "papermill": {
     "duration": 0.025157,
     "end_time": "2024-06-05T09:57:12.747091",
     "exception": false,
     "start_time": "2024-06-05T09:57:12.721934",
     "status": "completed"
    },
    "tags": []
   },
   "outputs": [],
   "source": [
    "df = df.drop(['Name'], axis=1)"
   ]
  },
  {
   "cell_type": "code",
   "execution_count": 11,
   "id": "614bf615",
   "metadata": {
    "execution": {
     "iopub.execute_input": "2024-06-05T09:57:12.765871Z",
     "iopub.status.busy": "2024-06-05T09:57:12.765405Z",
     "iopub.status.idle": "2024-06-05T09:57:12.775706Z",
     "shell.execute_reply": "2024-06-05T09:57:12.774817Z"
    },
    "papermill": {
     "duration": 0.022629,
     "end_time": "2024-06-05T09:57:12.778302",
     "exception": false,
     "start_time": "2024-06-05T09:57:12.755673",
     "status": "completed"
    },
    "tags": []
   },
   "outputs": [],
   "source": [
    "df = df.drop(['Insurance Provider'], axis=1)"
   ]
  },
  {
   "cell_type": "code",
   "execution_count": 12,
   "id": "66797d43",
   "metadata": {
    "execution": {
     "iopub.execute_input": "2024-06-05T09:57:12.797902Z",
     "iopub.status.busy": "2024-06-05T09:57:12.797494Z",
     "iopub.status.idle": "2024-06-05T09:57:12.807314Z",
     "shell.execute_reply": "2024-06-05T09:57:12.806240Z"
    },
    "papermill": {
     "duration": 0.022927,
     "end_time": "2024-06-05T09:57:12.809918",
     "exception": false,
     "start_time": "2024-06-05T09:57:12.786991",
     "status": "completed"
    },
    "tags": []
   },
   "outputs": [],
   "source": [
    "df = df.drop(['Billing Amount'], axis=1)"
   ]
  },
  {
   "cell_type": "markdown",
   "id": "0baa33a3",
   "metadata": {
    "papermill": {
     "duration": 0.008319,
     "end_time": "2024-06-05T09:57:12.826797",
     "exception": false,
     "start_time": "2024-06-05T09:57:12.818478",
     "status": "completed"
    },
    "tags": []
   },
   "source": [
    "# Label Encoding"
   ]
  },
  {
   "cell_type": "code",
   "execution_count": 13,
   "id": "a4e636fb",
   "metadata": {
    "execution": {
     "iopub.execute_input": "2024-06-05T09:57:12.845689Z",
     "iopub.status.busy": "2024-06-05T09:57:12.845291Z",
     "iopub.status.idle": "2024-06-05T09:57:14.118289Z",
     "shell.execute_reply": "2024-06-05T09:57:14.117026Z"
    },
    "papermill": {
     "duration": 1.28586,
     "end_time": "2024-06-05T09:57:14.121251",
     "exception": false,
     "start_time": "2024-06-05T09:57:12.835391",
     "status": "completed"
    },
    "tags": []
   },
   "outputs": [],
   "source": [
    "from sklearn.preprocessing import LabelEncoder"
   ]
  },
  {
   "cell_type": "code",
   "execution_count": 14,
   "id": "e8851e37",
   "metadata": {
    "execution": {
     "iopub.execute_input": "2024-06-05T09:57:14.141813Z",
     "iopub.status.busy": "2024-06-05T09:57:14.140731Z",
     "iopub.status.idle": "2024-06-05T09:57:14.243127Z",
     "shell.execute_reply": "2024-06-05T09:57:14.241876Z"
    },
    "papermill": {
     "duration": 0.115195,
     "end_time": "2024-06-05T09:57:14.245903",
     "exception": false,
     "start_time": "2024-06-05T09:57:14.130708",
     "status": "completed"
    },
    "tags": []
   },
   "outputs": [],
   "source": [
    "lc=LabelEncoder()\n",
    "cols=[ 'Gender','Blood Type', 'Medical Condition','Admission Type', 'Medication','Test Results']\n",
    "for i in cols:\n",
    "  df[i]=lc.fit_transform(df[i])"
   ]
  },
  {
   "cell_type": "code",
   "execution_count": 15,
   "id": "bbfb9c78",
   "metadata": {
    "execution": {
     "iopub.execute_input": "2024-06-05T09:57:14.264836Z",
     "iopub.status.busy": "2024-06-05T09:57:14.264429Z",
     "iopub.status.idle": "2024-06-05T09:57:14.276365Z",
     "shell.execute_reply": "2024-06-05T09:57:14.275143Z"
    },
    "papermill": {
     "duration": 0.024857,
     "end_time": "2024-06-05T09:57:14.279399",
     "exception": false,
     "start_time": "2024-06-05T09:57:14.254542",
     "status": "completed"
    },
    "tags": []
   },
   "outputs": [
    {
     "data": {
      "text/plain": [
       "Age                  0\n",
       "Gender               0\n",
       "Blood Type           0\n",
       "Medical Condition    0\n",
       "Admission Type       0\n",
       "Medication           0\n",
       "Test Results         0\n",
       "dtype: int64"
      ]
     },
     "execution_count": 15,
     "metadata": {},
     "output_type": "execute_result"
    }
   ],
   "source": [
    "df.isna().sum()"
   ]
  },
  {
   "cell_type": "code",
   "execution_count": 16,
   "id": "dba6c412",
   "metadata": {
    "execution": {
     "iopub.execute_input": "2024-06-05T09:57:14.298943Z",
     "iopub.status.busy": "2024-06-05T09:57:14.298544Z",
     "iopub.status.idle": "2024-06-05T09:57:14.315889Z",
     "shell.execute_reply": "2024-06-05T09:57:14.314714Z"
    },
    "papermill": {
     "duration": 0.030803,
     "end_time": "2024-06-05T09:57:14.319117",
     "exception": false,
     "start_time": "2024-06-05T09:57:14.288314",
     "status": "completed"
    },
    "tags": []
   },
   "outputs": [
    {
     "data": {
      "text/html": [
       "<div>\n",
       "<style scoped>\n",
       "    .dataframe tbody tr th:only-of-type {\n",
       "        vertical-align: middle;\n",
       "    }\n",
       "\n",
       "    .dataframe tbody tr th {\n",
       "        vertical-align: top;\n",
       "    }\n",
       "\n",
       "    .dataframe thead th {\n",
       "        text-align: right;\n",
       "    }\n",
       "</style>\n",
       "<table border=\"1\" class=\"dataframe\">\n",
       "  <thead>\n",
       "    <tr style=\"text-align: right;\">\n",
       "      <th></th>\n",
       "      <th>Age</th>\n",
       "      <th>Gender</th>\n",
       "      <th>Blood Type</th>\n",
       "      <th>Medical Condition</th>\n",
       "      <th>Admission Type</th>\n",
       "      <th>Medication</th>\n",
       "    </tr>\n",
       "  </thead>\n",
       "  <tbody>\n",
       "    <tr>\n",
       "      <th>0</th>\n",
       "      <td>30</td>\n",
       "      <td>1</td>\n",
       "      <td>5</td>\n",
       "      <td>2</td>\n",
       "      <td>2</td>\n",
       "      <td>3</td>\n",
       "    </tr>\n",
       "    <tr>\n",
       "      <th>1</th>\n",
       "      <td>62</td>\n",
       "      <td>1</td>\n",
       "      <td>0</td>\n",
       "      <td>5</td>\n",
       "      <td>1</td>\n",
       "      <td>1</td>\n",
       "    </tr>\n",
       "    <tr>\n",
       "      <th>2</th>\n",
       "      <td>76</td>\n",
       "      <td>0</td>\n",
       "      <td>1</td>\n",
       "      <td>5</td>\n",
       "      <td>1</td>\n",
       "      <td>0</td>\n",
       "    </tr>\n",
       "    <tr>\n",
       "      <th>3</th>\n",
       "      <td>28</td>\n",
       "      <td>0</td>\n",
       "      <td>6</td>\n",
       "      <td>3</td>\n",
       "      <td>0</td>\n",
       "      <td>1</td>\n",
       "    </tr>\n",
       "    <tr>\n",
       "      <th>4</th>\n",
       "      <td>43</td>\n",
       "      <td>0</td>\n",
       "      <td>2</td>\n",
       "      <td>2</td>\n",
       "      <td>2</td>\n",
       "      <td>4</td>\n",
       "    </tr>\n",
       "    <tr>\n",
       "      <th>...</th>\n",
       "      <td>...</td>\n",
       "      <td>...</td>\n",
       "      <td>...</td>\n",
       "      <td>...</td>\n",
       "      <td>...</td>\n",
       "      <td>...</td>\n",
       "    </tr>\n",
       "    <tr>\n",
       "      <th>55495</th>\n",
       "      <td>42</td>\n",
       "      <td>0</td>\n",
       "      <td>6</td>\n",
       "      <td>1</td>\n",
       "      <td>0</td>\n",
       "      <td>4</td>\n",
       "    </tr>\n",
       "    <tr>\n",
       "      <th>55496</th>\n",
       "      <td>61</td>\n",
       "      <td>0</td>\n",
       "      <td>3</td>\n",
       "      <td>5</td>\n",
       "      <td>0</td>\n",
       "      <td>0</td>\n",
       "    </tr>\n",
       "    <tr>\n",
       "      <th>55497</th>\n",
       "      <td>38</td>\n",
       "      <td>0</td>\n",
       "      <td>4</td>\n",
       "      <td>4</td>\n",
       "      <td>2</td>\n",
       "      <td>1</td>\n",
       "    </tr>\n",
       "    <tr>\n",
       "      <th>55498</th>\n",
       "      <td>43</td>\n",
       "      <td>1</td>\n",
       "      <td>7</td>\n",
       "      <td>0</td>\n",
       "      <td>0</td>\n",
       "      <td>1</td>\n",
       "    </tr>\n",
       "    <tr>\n",
       "      <th>55499</th>\n",
       "      <td>53</td>\n",
       "      <td>0</td>\n",
       "      <td>6</td>\n",
       "      <td>0</td>\n",
       "      <td>2</td>\n",
       "      <td>1</td>\n",
       "    </tr>\n",
       "  </tbody>\n",
       "</table>\n",
       "<p>55500 rows × 6 columns</p>\n",
       "</div>"
      ],
      "text/plain": [
       "       Age  Gender  Blood Type  Medical Condition  Admission Type  Medication\n",
       "0       30       1           5                  2               2           3\n",
       "1       62       1           0                  5               1           1\n",
       "2       76       0           1                  5               1           0\n",
       "3       28       0           6                  3               0           1\n",
       "4       43       0           2                  2               2           4\n",
       "...    ...     ...         ...                ...             ...         ...\n",
       "55495   42       0           6                  1               0           4\n",
       "55496   61       0           3                  5               0           0\n",
       "55497   38       0           4                  4               2           1\n",
       "55498   43       1           7                  0               0           1\n",
       "55499   53       0           6                  0               2           1\n",
       "\n",
       "[55500 rows x 6 columns]"
      ]
     },
     "execution_count": 16,
     "metadata": {},
     "output_type": "execute_result"
    }
   ],
   "source": [
    "y = df['Test Results']\n",
    "x = df.drop(['Test Results'], axis=1)\n",
    "x\n"
   ]
  },
  {
   "cell_type": "code",
   "execution_count": 17,
   "id": "1494b948",
   "metadata": {
    "execution": {
     "iopub.execute_input": "2024-06-05T09:57:14.340232Z",
     "iopub.status.busy": "2024-06-05T09:57:14.339376Z",
     "iopub.status.idle": "2024-06-05T09:57:14.347827Z",
     "shell.execute_reply": "2024-06-05T09:57:14.346732Z"
    },
    "papermill": {
     "duration": 0.021784,
     "end_time": "2024-06-05T09:57:14.350330",
     "exception": false,
     "start_time": "2024-06-05T09:57:14.328546",
     "status": "completed"
    },
    "tags": []
   },
   "outputs": [
    {
     "data": {
      "text/plain": [
       "0        2\n",
       "1        1\n",
       "2        2\n",
       "3        0\n",
       "4        0\n",
       "        ..\n",
       "55495    0\n",
       "55496    2\n",
       "55497    0\n",
       "55498    0\n",
       "55499    0\n",
       "Name: Test Results, Length: 55500, dtype: int64"
      ]
     },
     "execution_count": 17,
     "metadata": {},
     "output_type": "execute_result"
    }
   ],
   "source": [
    "y"
   ]
  },
  {
   "cell_type": "code",
   "execution_count": 18,
   "id": "20b033f7",
   "metadata": {
    "execution": {
     "iopub.execute_input": "2024-06-05T09:57:14.371189Z",
     "iopub.status.busy": "2024-06-05T09:57:14.370009Z",
     "iopub.status.idle": "2024-06-05T09:57:14.498907Z",
     "shell.execute_reply": "2024-06-05T09:57:14.497733Z"
    },
    "papermill": {
     "duration": 0.142249,
     "end_time": "2024-06-05T09:57:14.501710",
     "exception": false,
     "start_time": "2024-06-05T09:57:14.359461",
     "status": "completed"
    },
    "tags": []
   },
   "outputs": [],
   "source": [
    "from sklearn.model_selection import train_test_split\n",
    "\n",
    "x_train, x_test, y_train, y_test = train_test_split(x,y,test_size=0.33,random_state=42)\n",
    "\n"
   ]
  },
  {
   "cell_type": "code",
   "execution_count": 19,
   "id": "e6376d30",
   "metadata": {
    "execution": {
     "iopub.execute_input": "2024-06-05T09:57:14.522178Z",
     "iopub.status.busy": "2024-06-05T09:57:14.521747Z",
     "iopub.status.idle": "2024-06-05T09:57:20.730985Z",
     "shell.execute_reply": "2024-06-05T09:57:20.729866Z"
    },
    "papermill": {
     "duration": 6.222424,
     "end_time": "2024-06-05T09:57:20.733556",
     "exception": false,
     "start_time": "2024-06-05T09:57:14.511132",
     "status": "completed"
    },
    "tags": []
   },
   "outputs": [
    {
     "data": {
      "text/plain": [
       "array([0, 2, 1, ..., 2, 1, 0])"
      ]
     },
     "execution_count": 19,
     "metadata": {},
     "output_type": "execute_result"
    }
   ],
   "source": [
    "from sklearn.ensemble import RandomForestClassifier\n",
    "\n",
    "clf = RandomForestClassifier(n_estimators=100)\n",
    "\n",
    "clf.fit(x_train, y_train)\n",
    "\n",
    "y_pred = clf.predict(x_test)\n",
    "\n",
    "y_pred\n"
   ]
  },
  {
   "cell_type": "code",
   "execution_count": 20,
   "id": "651edea7",
   "metadata": {
    "execution": {
     "iopub.execute_input": "2024-06-05T09:57:20.754391Z",
     "iopub.status.busy": "2024-06-05T09:57:20.753604Z",
     "iopub.status.idle": "2024-06-05T09:57:20.763775Z",
     "shell.execute_reply": "2024-06-05T09:57:20.762637Z"
    },
    "papermill": {
     "duration": 0.023219,
     "end_time": "2024-06-05T09:57:20.766303",
     "exception": false,
     "start_time": "2024-06-05T09:57:20.743084",
     "status": "completed"
    },
    "tags": []
   },
   "outputs": [
    {
     "data": {
      "text/plain": [
       "0.3555009555009555"
      ]
     },
     "execution_count": 20,
     "metadata": {},
     "output_type": "execute_result"
    }
   ],
   "source": [
    "\n",
    "from sklearn.metrics import accuracy_score\n",
    "accuracy=accuracy_score(y_pred,y_test)\n",
    "accuracy"
   ]
  }
 ],
 "metadata": {
  "kaggle": {
   "accelerator": "none",
   "dataSources": [
    {
     "datasetId": 5146121,
     "sourceId": 8601217,
     "sourceType": "datasetVersion"
    }
   ],
   "dockerImageVersionId": 30715,
   "isGpuEnabled": false,
   "isInternetEnabled": false,
   "language": "python",
   "sourceType": "notebook"
  },
  "kernelspec": {
   "display_name": "Python 3",
   "language": "python",
   "name": "python3"
  },
  "language_info": {
   "codemirror_mode": {
    "name": "ipython",
    "version": 3
   },
   "file_extension": ".py",
   "mimetype": "text/x-python",
   "name": "python",
   "nbconvert_exporter": "python",
   "pygments_lexer": "ipython3",
   "version": "3.10.13"
  },
  "papermill": {
   "default_parameters": {},
   "duration": 13.567524,
   "end_time": "2024-06-05T09:57:21.397748",
   "environment_variables": {},
   "exception": null,
   "input_path": "__notebook__.ipynb",
   "output_path": "__notebook__.ipynb",
   "parameters": {},
   "start_time": "2024-06-05T09:57:07.830224",
   "version": "2.5.0"
  }
 },
 "nbformat": 4,
 "nbformat_minor": 5
}
